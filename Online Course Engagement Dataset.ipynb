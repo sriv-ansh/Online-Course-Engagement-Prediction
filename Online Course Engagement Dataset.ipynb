{
 "cells": [
  {
   "cell_type": "markdown",
   "id": "15859db7-66c6-4163-bdc1-46bcceb75d28",
   "metadata": {},
   "source": [
    "### 1) About the Dataset \n",
    "        This dataset captures user engagement metrics from an online course platform, facilitating analyses on factors influencing course completion. It includes user demographics, course-specific data, and engagement metrics."
   ]
  },
  {
   "attachments": {},
   "cell_type": "markdown",
   "id": "32a65fd0-2cf0-4e62-8dcf-0fde5d9e6ad5",
   "metadata": {},
   "source": [
    "![](https://th.bing.com/th/id/OIP.I2bfsoLuVJsv2RKo1OPyEQHaE7?pid=ImgDet&w=192&h=128&c=7&dpr=1.5)"
   ]
  },
  {
   "cell_type": "markdown",
   "id": "b79a276a-7334-46bf-822e-833cf1020d70",
   "metadata": {},
   "source": [
    "### 2) Defining the AIM :\n",
    "    Our Main AIM to analysie all the feature and based on behaivour of feature we need to predict weather the person will complete their courses or Not"
   ]
  },
  {
   "cell_type": "markdown",
   "id": "39db6691-e7ef-4483-a3b4-f2082babe08e",
   "metadata": {},
   "source": [
    "### 3) Some Information about the dataset:\n",
    "  \n",
    "* **UserID**: Unique identifier for each user  .\n",
    "* **CourseCategory**: Category of the course taken by the user (e.g., Programming, Business, Arts).\n",
    "  * **TimeSpentOnCourse**: Total time spent by the user on the course in hours.\n",
    "  * **NumberOfVideosWatched**: Total number of videos watched by the user.\n",
    "  * **NumberOfQuizzesTaken**: Total number of quizzes taken by the user.\n",
    "  * **QuizScores**: Average scores achieved by the user in quizzes (percentage).\n",
    "  * **CompletionRate**: Percentage of course content completed by the user.\n",
    "  * **DeviceType**: Type of device used by the user (Device Type: Desktop (0) or Mobile (1)).\n",
    "  * **CourseCompletion (Target Variable)**: Course completion status (0: Not Completed, 1: Completed).\n",
    "\n",
    "**Target:**\n",
    "**Distribution of the Target Variable (CourseCompletion):**\n",
    "\n",
    "* **0 (Not Completed)**: 48%\n",
    "* **1 (Completed)**: 52%\n",
    "ompleted): 52%"
   ]
  },
  {
   "cell_type": "markdown",
   "id": "6831b74e-361d-4156-808c-bfaef44e5d39",
   "metadata": {},
   "source": [
    "### 4) Importing the Standard Libraries."
   ]
  },
  {
   "cell_type": "code",
   "execution_count": 52,
   "id": "12ed2f86-580b-41e9-b92c-b34662ea24a9",
   "metadata": {},
   "outputs": [],
   "source": [
    "import numpy as np \n",
    "import pandas as pd \n",
    "import matplotlib.pyplot as plt \n",
    "import seaborn as sns\n",
    "import scipy.stats as sts"
   ]
  },
  {
   "cell_type": "markdown",
   "id": "02c9c6b7-2025-45d8-93fd-dad9f4a0a38f",
   "metadata": {},
   "source": [
    "### 5) Loading the Dataset"
   ]
  },
  {
   "cell_type": "code",
   "execution_count": 53,
   "id": "a69b5451-bb1e-427f-8204-c3852997eb91",
   "metadata": {},
   "outputs": [],
   "source": [
    "df = pd.read_csv('Dataset/online_course_engagement_data.csv')"
   ]
  },
  {
   "cell_type": "code",
   "execution_count": 54,
   "id": "0be13fba-7ade-4018-9214-4aeff1b40d6e",
   "metadata": {},
   "outputs": [
    {
     "data": {
      "text/html": [
       "<div>\n",
       "<style scoped>\n",
       "    .dataframe tbody tr th:only-of-type {\n",
       "        vertical-align: middle;\n",
       "    }\n",
       "\n",
       "    .dataframe tbody tr th {\n",
       "        vertical-align: top;\n",
       "    }\n",
       "\n",
       "    .dataframe thead th {\n",
       "        text-align: right;\n",
       "    }\n",
       "</style>\n",
       "<table border=\"1\" class=\"dataframe\">\n",
       "  <thead>\n",
       "    <tr style=\"text-align: right;\">\n",
       "      <th></th>\n",
       "      <th>UserID</th>\n",
       "      <th>CourseCategory</th>\n",
       "      <th>TimeSpentOnCourse</th>\n",
       "      <th>NumberOfVideosWatched</th>\n",
       "      <th>NumberOfQuizzesTaken</th>\n",
       "      <th>QuizScores</th>\n",
       "      <th>CompletionRate</th>\n",
       "      <th>DeviceType</th>\n",
       "      <th>CourseCompletion</th>\n",
       "    </tr>\n",
       "  </thead>\n",
       "  <tbody>\n",
       "    <tr>\n",
       "      <th>0</th>\n",
       "      <td>5618</td>\n",
       "      <td>Health</td>\n",
       "      <td>29.979719</td>\n",
       "      <td>17</td>\n",
       "      <td>3</td>\n",
       "      <td>50.365656</td>\n",
       "      <td>20.860773</td>\n",
       "      <td>1</td>\n",
       "      <td>0</td>\n",
       "    </tr>\n",
       "    <tr>\n",
       "      <th>1</th>\n",
       "      <td>4326</td>\n",
       "      <td>Arts</td>\n",
       "      <td>27.802640</td>\n",
       "      <td>1</td>\n",
       "      <td>5</td>\n",
       "      <td>62.615970</td>\n",
       "      <td>65.632415</td>\n",
       "      <td>1</td>\n",
       "      <td>0</td>\n",
       "    </tr>\n",
       "    <tr>\n",
       "      <th>2</th>\n",
       "      <td>5849</td>\n",
       "      <td>Arts</td>\n",
       "      <td>86.820485</td>\n",
       "      <td>14</td>\n",
       "      <td>2</td>\n",
       "      <td>78.458962</td>\n",
       "      <td>63.812007</td>\n",
       "      <td>1</td>\n",
       "      <td>1</td>\n",
       "    </tr>\n",
       "    <tr>\n",
       "      <th>3</th>\n",
       "      <td>4992</td>\n",
       "      <td>Science</td>\n",
       "      <td>35.038427</td>\n",
       "      <td>17</td>\n",
       "      <td>10</td>\n",
       "      <td>59.198853</td>\n",
       "      <td>95.433162</td>\n",
       "      <td>0</td>\n",
       "      <td>1</td>\n",
       "    </tr>\n",
       "    <tr>\n",
       "      <th>4</th>\n",
       "      <td>3866</td>\n",
       "      <td>Programming</td>\n",
       "      <td>92.490647</td>\n",
       "      <td>16</td>\n",
       "      <td>0</td>\n",
       "      <td>98.428285</td>\n",
       "      <td>18.102478</td>\n",
       "      <td>0</td>\n",
       "      <td>0</td>\n",
       "    </tr>\n",
       "  </tbody>\n",
       "</table>\n",
       "</div>"
      ],
      "text/plain": [
       "   UserID CourseCategory  TimeSpentOnCourse  NumberOfVideosWatched  \\\n",
       "0    5618         Health          29.979719                     17   \n",
       "1    4326           Arts          27.802640                      1   \n",
       "2    5849           Arts          86.820485                     14   \n",
       "3    4992        Science          35.038427                     17   \n",
       "4    3866    Programming          92.490647                     16   \n",
       "\n",
       "   NumberOfQuizzesTaken  QuizScores  CompletionRate  DeviceType  \\\n",
       "0                     3   50.365656       20.860773           1   \n",
       "1                     5   62.615970       65.632415           1   \n",
       "2                     2   78.458962       63.812007           1   \n",
       "3                    10   59.198853       95.433162           0   \n",
       "4                     0   98.428285       18.102478           0   \n",
       "\n",
       "   CourseCompletion  \n",
       "0                 0  \n",
       "1                 0  \n",
       "2                 1  \n",
       "3                 1  \n",
       "4                 0  "
      ]
     },
     "execution_count": 54,
     "metadata": {},
     "output_type": "execute_result"
    }
   ],
   "source": [
    "df.head()"
   ]
  },
  {
   "cell_type": "markdown",
   "id": "8b377636-cdde-4b1f-8902-3d0df0042703",
   "metadata": {},
   "source": [
    "### 6) Gattering Some Information About the Dataset"
   ]
  },
  {
   "cell_type": "code",
   "execution_count": 55,
   "id": "cb4898a9-42ac-4293-8492-633cb1cfc9f8",
   "metadata": {},
   "outputs": [
    {
     "data": {
      "text/plain": [
       "(9000, 9)"
      ]
     },
     "execution_count": 55,
     "metadata": {},
     "output_type": "execute_result"
    }
   ],
   "source": [
    "df.shape"
   ]
  },
  {
   "cell_type": "markdown",
   "id": "7cff77b4-c1fc-47a4-be91-e1bd55d96c2c",
   "metadata": {},
   "source": [
    "**Observation-:** The dataset is containing 9000 records with 9 columns "
   ]
  },
  {
   "cell_type": "code",
   "execution_count": 56,
   "id": "02120eb5-bf1f-4eef-bd7a-83327d8a51b4",
   "metadata": {},
   "outputs": [
    {
     "name": "stdout",
     "output_type": "stream",
     "text": [
      "<class 'pandas.core.frame.DataFrame'>\n",
      "RangeIndex: 9000 entries, 0 to 8999\n",
      "Data columns (total 9 columns):\n",
      " #   Column                 Non-Null Count  Dtype  \n",
      "---  ------                 --------------  -----  \n",
      " 0   UserID                 9000 non-null   int64  \n",
      " 1   CourseCategory         9000 non-null   object \n",
      " 2   TimeSpentOnCourse      9000 non-null   float64\n",
      " 3   NumberOfVideosWatched  9000 non-null   int64  \n",
      " 4   NumberOfQuizzesTaken   9000 non-null   int64  \n",
      " 5   QuizScores             9000 non-null   float64\n",
      " 6   CompletionRate         9000 non-null   float64\n",
      " 7   DeviceType             9000 non-null   int64  \n",
      " 8   CourseCompletion       9000 non-null   int64  \n",
      "dtypes: float64(3), int64(5), object(1)\n",
      "memory usage: 632.9+ KB\n"
     ]
    }
   ],
   "source": [
    "df.info()"
   ]
  },
  {
   "cell_type": "markdown",
   "id": "b9fb34c1-280b-473d-bd83-bad72419cf42",
   "metadata": {},
   "source": [
    "**Observation-:** the dataset having some columns like userid , courseCategory and much more... but we can observed that the userid is not that much important at all. , and the CourseCategory columns which contains that values like which category student belongs to and this columns containing the object values which we can compute latter on."
   ]
  },
  {
   "cell_type": "markdown",
   "id": "95c7019b-204b-47d2-94c7-483d61826972",
   "metadata": {},
   "source": [
    "### EDA: Let's perform some EDA on the dataset"
   ]
  },
  {
   "cell_type": "code",
   "execution_count": 57,
   "id": "2974b534-77ff-442c-a409-930a1af8265f",
   "metadata": {},
   "outputs": [
    {
     "data": {
      "text/plain": [
       "UserID                   0\n",
       "CourseCategory           0\n",
       "TimeSpentOnCourse        0\n",
       "NumberOfVideosWatched    0\n",
       "NumberOfQuizzesTaken     0\n",
       "QuizScores               0\n",
       "CompletionRate           0\n",
       "DeviceType               0\n",
       "CourseCompletion         0\n",
       "dtype: int64"
      ]
     },
     "execution_count": 57,
     "metadata": {},
     "output_type": "execute_result"
    }
   ],
   "source": [
    "##### checking the missing values \n",
    "df.isnull().sum()"
   ]
  },
  {
   "cell_type": "markdown",
   "id": "87fefb66-1de0-499c-9e3a-5c1318b3e99a",
   "metadata": {},
   "source": [
    "**Observation -:** There Having No Missing Value in the data."
   ]
  },
  {
   "cell_type": "code",
   "execution_count": 58,
   "id": "33884b80-3bee-480b-8483-cea30229ab96",
   "metadata": {},
   "outputs": [],
   "source": [
    "### Droping the UserID \n",
    "df = df.drop('UserID', axis =1)"
   ]
  },
  {
   "cell_type": "code",
   "execution_count": 59,
   "id": "80a80a48-d0f3-4a1f-8b98-f84520444d65",
   "metadata": {},
   "outputs": [
    {
     "data": {
      "text/plain": [
       "CourseCategory\n",
       "Business       20.411111\n",
       "Health         20.233333\n",
       "Science        20.155556\n",
       "Programming    20.111111\n",
       "Arts           19.088889\n",
       "Name: count, dtype: float64"
      ]
     },
     "execution_count": 59,
     "metadata": {},
     "output_type": "execute_result"
    }
   ],
   "source": [
    "### Let's Observed the CourseCatrogy\n",
    "df.CourseCategory.value_counts()  * 100/ len(df)"
   ]
  },
  {
   "cell_type": "markdown",
   "id": "24c5a362-f7ae-40be-b777-c19c233fca6b",
   "metadata": {},
   "source": [
    "**Observation:-** The Dataset Having 5 Category Business , Health , Science , Programming and Arts And All the Category the Equally Distributed on data"
   ]
  },
  {
   "cell_type": "markdown",
   "id": "0f5650fa-9d89-48f0-bc6f-49b03d92b470",
   "metadata": {},
   "source": [
    "### Descripective Analysis"
   ]
  },
  {
   "cell_type": "code",
   "execution_count": 60,
   "id": "4aac4d50-6584-4c73-9fa0-9d950f9cfc55",
   "metadata": {},
   "outputs": [
    {
     "data": {
      "text/html": [
       "<div>\n",
       "<style scoped>\n",
       "    .dataframe tbody tr th:only-of-type {\n",
       "        vertical-align: middle;\n",
       "    }\n",
       "\n",
       "    .dataframe tbody tr th {\n",
       "        vertical-align: top;\n",
       "    }\n",
       "\n",
       "    .dataframe thead th {\n",
       "        text-align: right;\n",
       "    }\n",
       "</style>\n",
       "<table border=\"1\" class=\"dataframe\">\n",
       "  <thead>\n",
       "    <tr style=\"text-align: right;\">\n",
       "      <th></th>\n",
       "      <th>count</th>\n",
       "      <th>mean</th>\n",
       "      <th>std</th>\n",
       "      <th>min</th>\n",
       "      <th>25%</th>\n",
       "      <th>50%</th>\n",
       "      <th>75%</th>\n",
       "      <th>max</th>\n",
       "    </tr>\n",
       "  </thead>\n",
       "  <tbody>\n",
       "    <tr>\n",
       "      <th>TimeSpentOnCourse</th>\n",
       "      <td>9000.0</td>\n",
       "      <td>50.163822</td>\n",
       "      <td>28.491750</td>\n",
       "      <td>1.005230</td>\n",
       "      <td>25.440548</td>\n",
       "      <td>49.818417</td>\n",
       "      <td>75.069924</td>\n",
       "      <td>99.992558</td>\n",
       "    </tr>\n",
       "    <tr>\n",
       "      <th>NumberOfVideosWatched</th>\n",
       "      <td>9000.0</td>\n",
       "      <td>10.024667</td>\n",
       "      <td>6.029878</td>\n",
       "      <td>0.000000</td>\n",
       "      <td>5.000000</td>\n",
       "      <td>10.000000</td>\n",
       "      <td>15.000000</td>\n",
       "      <td>20.000000</td>\n",
       "    </tr>\n",
       "    <tr>\n",
       "      <th>NumberOfQuizzesTaken</th>\n",
       "      <td>9000.0</td>\n",
       "      <td>5.090556</td>\n",
       "      <td>3.157762</td>\n",
       "      <td>0.000000</td>\n",
       "      <td>2.000000</td>\n",
       "      <td>5.000000</td>\n",
       "      <td>8.000000</td>\n",
       "      <td>10.000000</td>\n",
       "    </tr>\n",
       "    <tr>\n",
       "      <th>QuizScores</th>\n",
       "      <td>9000.0</td>\n",
       "      <td>74.706028</td>\n",
       "      <td>14.378383</td>\n",
       "      <td>50.005119</td>\n",
       "      <td>62.283451</td>\n",
       "      <td>74.743294</td>\n",
       "      <td>87.022663</td>\n",
       "      <td>99.994984</td>\n",
       "    </tr>\n",
       "    <tr>\n",
       "      <th>CompletionRate</th>\n",
       "      <td>9000.0</td>\n",
       "      <td>50.340146</td>\n",
       "      <td>28.950977</td>\n",
       "      <td>0.009327</td>\n",
       "      <td>25.653614</td>\n",
       "      <td>50.264124</td>\n",
       "      <td>75.572493</td>\n",
       "      <td>99.979711</td>\n",
       "    </tr>\n",
       "    <tr>\n",
       "      <th>DeviceType</th>\n",
       "      <td>9000.0</td>\n",
       "      <td>0.500667</td>\n",
       "      <td>0.500027</td>\n",
       "      <td>0.000000</td>\n",
       "      <td>0.000000</td>\n",
       "      <td>1.000000</td>\n",
       "      <td>1.000000</td>\n",
       "      <td>1.000000</td>\n",
       "    </tr>\n",
       "    <tr>\n",
       "      <th>CourseCompletion</th>\n",
       "      <td>9000.0</td>\n",
       "      <td>0.396444</td>\n",
       "      <td>0.489186</td>\n",
       "      <td>0.000000</td>\n",
       "      <td>0.000000</td>\n",
       "      <td>0.000000</td>\n",
       "      <td>1.000000</td>\n",
       "      <td>1.000000</td>\n",
       "    </tr>\n",
       "  </tbody>\n",
       "</table>\n",
       "</div>"
      ],
      "text/plain": [
       "                        count       mean        std        min        25%  \\\n",
       "TimeSpentOnCourse      9000.0  50.163822  28.491750   1.005230  25.440548   \n",
       "NumberOfVideosWatched  9000.0  10.024667   6.029878   0.000000   5.000000   \n",
       "NumberOfQuizzesTaken   9000.0   5.090556   3.157762   0.000000   2.000000   \n",
       "QuizScores             9000.0  74.706028  14.378383  50.005119  62.283451   \n",
       "CompletionRate         9000.0  50.340146  28.950977   0.009327  25.653614   \n",
       "DeviceType             9000.0   0.500667   0.500027   0.000000   0.000000   \n",
       "CourseCompletion       9000.0   0.396444   0.489186   0.000000   0.000000   \n",
       "\n",
       "                             50%        75%        max  \n",
       "TimeSpentOnCourse      49.818417  75.069924  99.992558  \n",
       "NumberOfVideosWatched  10.000000  15.000000  20.000000  \n",
       "NumberOfQuizzesTaken    5.000000   8.000000  10.000000  \n",
       "QuizScores             74.743294  87.022663  99.994984  \n",
       "CompletionRate         50.264124  75.572493  99.979711  \n",
       "DeviceType              1.000000   1.000000   1.000000  \n",
       "CourseCompletion        0.000000   1.000000   1.000000  "
      ]
     },
     "execution_count": 60,
     "metadata": {},
     "output_type": "execute_result"
    }
   ],
   "source": [
    "df.describe().T"
   ]
  },
  {
   "cell_type": "markdown",
   "id": "e5cd7b88-e810-400f-ab3b-e672dce1475a",
   "metadata": {},
   "source": [
    "**Observation-:** We can see the average **TimeSpentOnCourse** on App is 50, **NumberofVideosWatched** on App is 10. wheraas maximum NumberofQuizzes \n",
    "attemped is 10 also the min quizscore is 50."
   ]
  },
  {
   "cell_type": "code",
   "execution_count": 61,
   "id": "0d67b414-6b8f-47ad-9e7f-f14528dcf46c",
   "metadata": {},
   "outputs": [],
   "source": [
    "df_copy = df.copy()"
   ]
  },
  {
   "cell_type": "markdown",
   "id": "291c494d-b870-4e91-b8f9-e45b6b5e846a",
   "metadata": {},
   "source": [
    "## Let's Create the Machine Learning Model"
   ]
  },
  {
   "cell_type": "markdown",
   "id": "b8c3975f-9164-40fa-917d-5e881f810509",
   "metadata": {},
   "source": [
    "### let's make data into x and y"
   ]
  },
  {
   "cell_type": "code",
   "execution_count": 62,
   "id": "6f897548-c986-4683-ad25-ee0f668bf9ad",
   "metadata": {},
   "outputs": [],
   "source": [
    "X = df_copy.drop('CourseCompletion', axis =1 ) \n",
    "y = df_copy['CourseCompletion']"
   ]
  },
  {
   "cell_type": "markdown",
   "id": "984f1d1c-60c2-4579-bc31-3a1fa26d2572",
   "metadata": {},
   "source": [
    "### Spliting the Data into Train Test Split"
   ]
  },
  {
   "cell_type": "code",
   "execution_count": 63,
   "id": "09a6663a-dd96-46c1-9232-7c21999623e0",
   "metadata": {},
   "outputs": [],
   "source": [
    "### Importing the Standard Libraries\n",
    "from sklearn.model_selection import train_test_split"
   ]
  },
  {
   "cell_type": "code",
   "execution_count": 64,
   "id": "a2d66b2b-cf91-4664-938c-83e61239d803",
   "metadata": {},
   "outputs": [],
   "source": [
    "x_train , x_test , y_train , y_test = train_test_split(X,y,random_state = 42 , test_size = 0.20)"
   ]
  },
  {
   "cell_type": "markdown",
   "id": "0dffec3e-6b8c-4696-9d43-32e4aeb9e885",
   "metadata": {},
   "source": [
    "###### Outliers Check Into Dataset "
   ]
  },
  {
   "cell_type": "code",
   "execution_count": 65,
   "id": "eda40c5d-e9b0-4c55-baa8-96f74c314044",
   "metadata": {},
   "outputs": [
    {
     "data": {
      "image/png": "[encoded data removed]",
      "text/plain": [
       "<Figure size 1100x700 with 1 Axes>"
      ]
     },
     "metadata": {},
     "output_type": "display_data"
    }
   ],
   "source": [
    "### Let's check the data containing any outliers or not\n",
    "plt.figure(figsize = (11,7))\n",
    "sns.boxplot(x_train)\n",
    "plt.xticks(rotation =90)\n",
    "plt.show()"
   ]
  },
  {
   "cell_type": "markdown",
   "id": "c9127fa5-d553-4f8e-9d62-0172c0487e7e",
   "metadata": {},
   "source": [
    "**Observation-:** We Can Observed that There is No Outliers is the dataset as we can see. But One Think we can observed that the Dataset is not in the same form so we need to perform **Feature Scaling Technique** to do data in the same form."
   ]
  },
  {
   "cell_type": "markdown",
   "id": "8e9785cb-4a22-4547-9b42-30bbe9c5ed47",
   "metadata": {},
   "source": [
    "#####  OneHotEncoding\n",
    "Let's Convert the CourseCategory (categorical feature) into (Numberical Feature) using **OneHotEncoding**"
   ]
  },
  {
   "cell_type": "code",
   "execution_count": 66,
   "id": "fded167c-c845-4e24-ac08-100057966715",
   "metadata": {},
   "outputs": [],
   "source": [
    "### import the standard libraries\n",
    "from sklearn.preprocessing import OneHotEncoder"
   ]
  },
  {
   "cell_type": "code",
   "execution_count": 67,
   "id": "f51f5ba3",
   "metadata": {},
   "outputs": [],
   "source": [
    "num_feature = X.select_dtypes(exclude='object')\n",
    "oh_transformer = X.select_dtypes(include = 'object')\n",
    "mms = MinMaxScaler()\n",
    "ohe = OneHotEncoder()"
   ]
  },
  {
   "cell_type": "code",
   "execution_count": 68,
   "id": "20b2f424-6dae-4dc1-9e47-5695a66bf358",
   "metadata": {},
   "outputs": [],
   "source": [
    "import pickle\n",
    "import pandas\n",
    "def Encoder_transform(x_train_ , x_test_):\n",
    "\n",
    "    encoded_train = pd.get_dummies(x_train_[['CourseCategory']], prefix='CourseCategory', dtype=int)\n",
    "    x_train_ = x_train_.drop('CourseCategory', axis=1).join(encoded_train)\n",
    "    \n",
    "\n",
    "    encoded_test = pd.get_dummies(x_test_[['CourseCategory']], prefix='CourseCategory', dtype= int)\n",
    "    x_test_ = x_test_.drop('CourseCategory', axis=1).join(encoded_test)\n",
    "\n",
    "    return x_train_ , x_test_\n",
    "    \n"
   ]
  },
  {
   "cell_type": "code",
   "execution_count": 69,
   "id": "928b5b25-0454-4a4b-97fd-d692661620af",
   "metadata": {},
   "outputs": [
    {
     "data": {
      "text/html": [
       "<div>\n",
       "<style scoped>\n",
       "    .dataframe tbody tr th:only-of-type {\n",
       "        vertical-align: middle;\n",
       "    }\n",
       "\n",
       "    .dataframe tbody tr th {\n",
       "        vertical-align: top;\n",
       "    }\n",
       "\n",
       "    .dataframe thead th {\n",
       "        text-align: right;\n",
       "    }\n",
       "</style>\n",
       "<table border=\"1\" class=\"dataframe\">\n",
       "  <thead>\n",
       "    <tr style=\"text-align: right;\">\n",
       "      <th></th>\n",
       "      <th>TimeSpentOnCourse</th>\n",
       "      <th>NumberOfVideosWatched</th>\n",
       "      <th>NumberOfQuizzesTaken</th>\n",
       "      <th>QuizScores</th>\n",
       "      <th>CompletionRate</th>\n",
       "      <th>DeviceType</th>\n",
       "      <th>CourseCategory_Arts</th>\n",
       "      <th>CourseCategory_Business</th>\n",
       "      <th>CourseCategory_Health</th>\n",
       "      <th>CourseCategory_Programming</th>\n",
       "      <th>CourseCategory_Science</th>\n",
       "    </tr>\n",
       "  </thead>\n",
       "  <tbody>\n",
       "    <tr>\n",
       "      <th>6317</th>\n",
       "      <td>24.259908</td>\n",
       "      <td>2</td>\n",
       "      <td>8</td>\n",
       "      <td>93.052714</td>\n",
       "      <td>80.625655</td>\n",
       "      <td>1</td>\n",
       "      <td>0</td>\n",
       "      <td>0</td>\n",
       "      <td>0</td>\n",
       "      <td>0</td>\n",
       "      <td>1</td>\n",
       "    </tr>\n",
       "    <tr>\n",
       "      <th>740</th>\n",
       "      <td>68.330860</td>\n",
       "      <td>8</td>\n",
       "      <td>3</td>\n",
       "      <td>64.562007</td>\n",
       "      <td>79.176881</td>\n",
       "      <td>1</td>\n",
       "      <td>0</td>\n",
       "      <td>0</td>\n",
       "      <td>0</td>\n",
       "      <td>1</td>\n",
       "      <td>0</td>\n",
       "    </tr>\n",
       "    <tr>\n",
       "      <th>3781</th>\n",
       "      <td>21.476874</td>\n",
       "      <td>20</td>\n",
       "      <td>10</td>\n",
       "      <td>70.341810</td>\n",
       "      <td>67.480511</td>\n",
       "      <td>1</td>\n",
       "      <td>0</td>\n",
       "      <td>0</td>\n",
       "      <td>0</td>\n",
       "      <td>1</td>\n",
       "      <td>0</td>\n",
       "    </tr>\n",
       "    <tr>\n",
       "      <th>7850</th>\n",
       "      <td>53.945297</td>\n",
       "      <td>3</td>\n",
       "      <td>2</td>\n",
       "      <td>68.345896</td>\n",
       "      <td>76.826089</td>\n",
       "      <td>1</td>\n",
       "      <td>0</td>\n",
       "      <td>0</td>\n",
       "      <td>0</td>\n",
       "      <td>0</td>\n",
       "      <td>1</td>\n",
       "    </tr>\n",
       "    <tr>\n",
       "      <th>2963</th>\n",
       "      <td>19.445361</td>\n",
       "      <td>19</td>\n",
       "      <td>6</td>\n",
       "      <td>61.214899</td>\n",
       "      <td>98.869957</td>\n",
       "      <td>0</td>\n",
       "      <td>0</td>\n",
       "      <td>1</td>\n",
       "      <td>0</td>\n",
       "      <td>0</td>\n",
       "      <td>0</td>\n",
       "    </tr>\n",
       "    <tr>\n",
       "      <th>...</th>\n",
       "      <td>...</td>\n",
       "      <td>...</td>\n",
       "      <td>...</td>\n",
       "      <td>...</td>\n",
       "      <td>...</td>\n",
       "      <td>...</td>\n",
       "      <td>...</td>\n",
       "      <td>...</td>\n",
       "      <td>...</td>\n",
       "      <td>...</td>\n",
       "      <td>...</td>\n",
       "    </tr>\n",
       "    <tr>\n",
       "      <th>5734</th>\n",
       "      <td>2.898118</td>\n",
       "      <td>14</td>\n",
       "      <td>6</td>\n",
       "      <td>67.296564</td>\n",
       "      <td>67.509869</td>\n",
       "      <td>0</td>\n",
       "      <td>0</td>\n",
       "      <td>1</td>\n",
       "      <td>0</td>\n",
       "      <td>0</td>\n",
       "      <td>0</td>\n",
       "    </tr>\n",
       "    <tr>\n",
       "      <th>5191</th>\n",
       "      <td>21.853914</td>\n",
       "      <td>8</td>\n",
       "      <td>9</td>\n",
       "      <td>92.811514</td>\n",
       "      <td>49.894893</td>\n",
       "      <td>1</td>\n",
       "      <td>0</td>\n",
       "      <td>1</td>\n",
       "      <td>0</td>\n",
       "      <td>0</td>\n",
       "      <td>0</td>\n",
       "    </tr>\n",
       "    <tr>\n",
       "      <th>5390</th>\n",
       "      <td>31.372634</td>\n",
       "      <td>5</td>\n",
       "      <td>5</td>\n",
       "      <td>71.606162</td>\n",
       "      <td>6.835050</td>\n",
       "      <td>1</td>\n",
       "      <td>0</td>\n",
       "      <td>1</td>\n",
       "      <td>0</td>\n",
       "      <td>0</td>\n",
       "      <td>0</td>\n",
       "    </tr>\n",
       "    <tr>\n",
       "      <th>860</th>\n",
       "      <td>91.566782</td>\n",
       "      <td>2</td>\n",
       "      <td>5</td>\n",
       "      <td>95.120374</td>\n",
       "      <td>70.980378</td>\n",
       "      <td>0</td>\n",
       "      <td>0</td>\n",
       "      <td>1</td>\n",
       "      <td>0</td>\n",
       "      <td>0</td>\n",
       "      <td>0</td>\n",
       "    </tr>\n",
       "    <tr>\n",
       "      <th>7270</th>\n",
       "      <td>19.367072</td>\n",
       "      <td>18</td>\n",
       "      <td>3</td>\n",
       "      <td>80.982431</td>\n",
       "      <td>61.997641</td>\n",
       "      <td>0</td>\n",
       "      <td>0</td>\n",
       "      <td>0</td>\n",
       "      <td>0</td>\n",
       "      <td>1</td>\n",
       "      <td>0</td>\n",
       "    </tr>\n",
       "  </tbody>\n",
       "</table>\n",
       "<p>7200 rows × 11 columns</p>\n",
       "</div>"
      ],
      "text/plain": [
       "      TimeSpentOnCourse  NumberOfVideosWatched  NumberOfQuizzesTaken  \\\n",
       "6317          24.259908                      2                     8   \n",
       "740           68.330860                      8                     3   \n",
       "3781          21.476874                     20                    10   \n",
       "7850          53.945297                      3                     2   \n",
       "2963          19.445361                     19                     6   \n",
       "...                 ...                    ...                   ...   \n",
       "5734           2.898118                     14                     6   \n",
       "5191          21.853914                      8                     9   \n",
       "5390          31.372634                      5                     5   \n",
       "860           91.566782                      2                     5   \n",
       "7270          19.367072                     18                     3   \n",
       "\n",
       "      QuizScores  CompletionRate  DeviceType  CourseCategory_Arts  \\\n",
       "6317   93.052714       80.625655           1                    0   \n",
       "740    64.562007       79.176881           1                    0   \n",
       "3781   70.341810       67.480511           1                    0   \n",
       "7850   68.345896       76.826089           1                    0   \n",
       "2963   61.214899       98.869957           0                    0   \n",
       "...          ...             ...         ...                  ...   \n",
       "5734   67.296564       67.509869           0                    0   \n",
       "5191   92.811514       49.894893           1                    0   \n",
       "5390   71.606162        6.835050           1                    0   \n",
       "860    95.120374       70.980378           0                    0   \n",
       "7270   80.982431       61.997641           0                    0   \n",
       "\n",
       "      CourseCategory_Business  CourseCategory_Health  \\\n",
       "6317                        0                      0   \n",
       "740                         0                      0   \n",
       "3781                        0                      0   \n",
       "7850                        0                      0   \n",
       "2963                        1                      0   \n",
       "...                       ...                    ...   \n",
       "5734                        1                      0   \n",
       "5191                        1                      0   \n",
       "5390                        1                      0   \n",
       "860                         1                      0   \n",
       "7270                        0                      0   \n",
       "\n",
       "      CourseCategory_Programming  CourseCategory_Science  \n",
       "6317                           0                       1  \n",
       "740                            1                       0  \n",
       "3781                           1                       0  \n",
       "7850                           0                       1  \n",
       "2963                           0                       0  \n",
       "...                          ...                     ...  \n",
       "5734                           0                       0  \n",
       "5191                           0                       0  \n",
       "5390                           0                       0  \n",
       "860                            0                       0  \n",
       "7270                           1                       0  \n",
       "\n",
       "[7200 rows x 11 columns]"
      ]
     },
     "execution_count": 69,
     "metadata": {},
     "output_type": "execute_result"
    }
   ],
   "source": [
    "x_train_scaled , x_test_scaled = Encoder_transform(x_train, x_test)\n",
    "x_train_scaled"
   ]
  },
  {
   "cell_type": "code",
   "execution_count": 70,
   "id": "1e638532-20f4-45c2-aca8-c60ea50fd849",
   "metadata": {},
   "outputs": [],
   "source": [
    "from sklearn.preprocessing import MinMaxScaler"
   ]
  },
  {
   "cell_type": "code",
   "execution_count": 71,
   "id": "bf1e80ff-0158-45be-8e82-91713225ffac",
   "metadata": {},
   "outputs": [],
   "source": [
    "def MMS_Scaling_transform(x_train_ , x_test_):\n",
    "    mms = MinMaxScaler()\n",
    "    x_train_.iloc[:,0:5] = mms.fit_transform(x_train_.iloc[:,0:5])\n",
    "    x_test_.iloc[:,0:5] = mms.transform(x_test_.iloc[:,0:5])\n",
    "    \n",
    "    f= open('feature engineering model/MMS_SCALER.pkl' , 'wb')\n",
    "    pickle.dump(mms, f)\n",
    "    f.close()\n",
    "    return x_train_ , x_test_"
   ]
  },
  {
   "cell_type": "code",
   "execution_count": 72,
   "id": "66eda004-2537-41c6-a81e-117d9fd70849",
   "metadata": {},
   "outputs": [],
   "source": [
    "x_train_scaled , x_test_scaled = MMS_Scaling_transform(x_train_scaled, x_test_scaled)"
   ]
  },
  {
   "cell_type": "markdown",
   "id": "29667e4a-8315-4786-84bc-1a12853e4149",
   "metadata": {},
   "source": [
    "**Obsevation:-** We have scaled down our all column into suitable format we performed the MinMaxScaler for the Values which was not in same unit and we also change the categorical format data into Numberical through Encoding Technique Which is know as OneHotEncoding."
   ]
  },
  {
   "cell_type": "code",
   "execution_count": 73,
   "id": "dae46c27-5b40-43c5-9c2f-fa9ff34f6f0b",
   "metadata": {},
   "outputs": [
    {
     "data": {
      "image/png": "[encoded data removed]",
      "text/plain": [
       "<Figure size 1100x500 with 1 Axes>"
      ]
     },
     "metadata": {},
     "output_type": "display_data"
    }
   ],
   "source": [
    "plt.figure(figsize = (11,5))\n",
    "plt.title(\"AS WE CAN SEE NOW OUR ALL DATA IS IN THE SAME FORMAT\")\n",
    "sns.boxplot(x_train_scaled.iloc[:,0:5])\n",
    "plt.xticks(rotation =90)\n",
    "plt.show()"
   ]
  },
  {
   "cell_type": "markdown",
   "id": "065fe00d-5538-477a-b186-6dec1f310af7",
   "metadata": {
    "scrolled": true
   },
   "source": [
    "### Generating the Model"
   ]
  },
  {
   "cell_type": "code",
   "execution_count": 90,
   "id": "0f3b810d",
   "metadata": {},
   "outputs": [
    {
     "data": {
      "text/plain": [
       "Index(['CourseCategory', 'TimeSpentOnCourse', 'NumberOfVideosWatched',\n",
       "       'NumberOfQuizzesTaken', 'QuizScores', 'CompletionRate', 'DeviceType'],\n",
       "      dtype='object')"
      ]
     },
     "execution_count": 90,
     "metadata": {},
     "output_type": "execute_result"
    }
   ],
   "source": [
    "x_test.columns"
   ]
  },
  {
   "cell_type": "code",
   "execution_count": 74,
   "id": "092a95f2-148d-4754-a95f-18d44a768ba5",
   "metadata": {},
   "outputs": [],
   "source": [
    "from sklearn.linear_model import LogisticRegression"
   ]
  },
  {
   "cell_type": "code",
   "execution_count": 75,
   "id": "332e29b5-a166-4426-a5b6-5e9e9a07217c",
   "metadata": {},
   "outputs": [
    {
     "data": {
      "text/html": [
       "<style>#sk-container-id-7 {color: black;background-color: white;}#sk-container-id-7 pre{padding: 0;}#sk-container-id-7 div.sk-toggleable {background-color: white;}#sk-container-id-7 label.sk-toggleable__label {cursor: pointer;display: block;width: 100%;margin-bottom: 0;padding: 0.3em;box-sizing: border-box;text-align: center;}#sk-container-id-7 label.sk-toggleable__label-arrow:before {content: \"▸\";float: left;margin-right: 0.25em;color: #696969;}#sk-container-id-7 label.sk-toggleable__label-arrow:hover:before {color: black;}#sk-container-id-7 div.sk-estimator:hover label.sk-toggleable__label-arrow:before {color: black;}#sk-container-id-7 div.sk-toggleable__content {max-height: 0;max-width: 0;overflow: hidden;text-align: left;background-color: #f0f8ff;}#sk-container-id-7 div.sk-toggleable__content pre {margin: 0.2em;color: black;border-radius: 0.25em;background-color: #f0f8ff;}#sk-container-id-7 input.sk-toggleable__control:checked~div.sk-toggleable__content {max-height: 200px;max-width: 100%;overflow: auto;}#sk-container-id-7 input.sk-toggleable__control:checked~label.sk-toggleable__label-arrow:before {content: \"▾\";}#sk-container-id-7 div.sk-estimator input.sk-toggleable__control:checked~label.sk-toggleable__label {background-color: #d4ebff;}#sk-container-id-7 div.sk-label input.sk-toggleable__control:checked~label.sk-toggleable__label {background-color: #d4ebff;}#sk-container-id-7 input.sk-hidden--visually {border: 0;clip: rect(1px 1px 1px 1px);clip: rect(1px, 1px, 1px, 1px);height: 1px;margin: -1px;overflow: hidden;padding: 0;position: absolute;width: 1px;}#sk-container-id-7 div.sk-estimator {font-family: monospace;background-color: #f0f8ff;border: 1px dotted black;border-radius: 0.25em;box-sizing: border-box;margin-bottom: 0.5em;}#sk-container-id-7 div.sk-estimator:hover {background-color: #d4ebff;}#sk-container-id-7 div.sk-parallel-item::after {content: \"\";width: 100%;border-bottom: 1px solid gray;flex-grow: 1;}#sk-container-id-7 div.sk-label:hover label.sk-toggleable__label {background-color: #d4ebff;}#sk-container-id-7 div.sk-serial::before {content: \"\";position: absolute;border-left: 1px solid gray;box-sizing: border-box;top: 0;bottom: 0;left: 50%;z-index: 0;}#sk-container-id-7 div.sk-serial {display: flex;flex-direction: column;align-items: center;background-color: white;padding-right: 0.2em;padding-left: 0.2em;position: relative;}#sk-container-id-7 div.sk-item {position: relative;z-index: 1;}#sk-container-id-7 div.sk-parallel {display: flex;align-items: stretch;justify-content: center;background-color: white;position: relative;}#sk-container-id-7 div.sk-item::before, #sk-container-id-7 div.sk-parallel-item::before {content: \"\";position: absolute;border-left: 1px solid gray;box-sizing: border-box;top: 0;bottom: 0;left: 50%;z-index: -1;}#sk-container-id-7 div.sk-parallel-item {display: flex;flex-direction: column;z-index: 1;position: relative;background-color: white;}#sk-container-id-7 div.sk-parallel-item:first-child::after {align-self: flex-end;width: 50%;}#sk-container-id-7 div.sk-parallel-item:last-child::after {align-self: flex-start;width: 50%;}#sk-container-id-7 div.sk-parallel-item:only-child::after {width: 0;}#sk-container-id-7 div.sk-dashed-wrapped {border: 1px dashed gray;margin: 0 0.4em 0.5em 0.4em;box-sizing: border-box;padding-bottom: 0.4em;background-color: white;}#sk-container-id-7 div.sk-label label {font-family: monospace;font-weight: bold;display: inline-block;line-height: 1.2em;}#sk-container-id-7 div.sk-label-container {text-align: center;}#sk-container-id-7 div.sk-container {/* jupyter's `normalize.less` sets `[hidden] { display: none; }` but bootstrap.min.css set `[hidden] { display: none !important; }` so we also need the `!important` here to be able to override the default hidden behavior on the sphinx rendered scikit-learn.org. See: https://github.com/scikit-learn/scikit-learn/issues/21755 */display: inline-block !important;position: relative;}#sk-container-id-7 div.sk-text-repr-fallback {display: none;}</style><div id=\"sk-container-id-7\" class=\"sk-top-container\"><div class=\"sk-text-repr-fallback\"><pre>LogisticRegression()</pre><b>In a Jupyter environment, please rerun this cell to show the HTML representation or trust the notebook. <br />On GitHub, the HTML representation is unable to render, please try loading this page with nbviewer.org.</b></div><div class=\"sk-container\" hidden><div class=\"sk-item\"><div class=\"sk-estimator sk-toggleable\"><input class=\"sk-toggleable__control sk-hidden--visually\" id=\"sk-estimator-id-11\" type=\"checkbox\" checked><label for=\"sk-estimator-id-11\" class=\"sk-toggleable__label sk-toggleable__label-arrow\">LogisticRegression</label><div class=\"sk-toggleable__content\"><pre>LogisticRegression()</pre></div></div></div></div></div>"
      ],
      "text/plain": [
       "LogisticRegression()"
      ]
     },
     "execution_count": 75,
     "metadata": {},
     "output_type": "execute_result"
    }
   ],
   "source": [
    "lr = LogisticRegression()\n",
    "lr"
   ]
  },
  {
   "cell_type": "markdown",
   "id": "979274af-28ee-4984-a2d4-19c3deb3fff2",
   "metadata": {},
   "source": [
    "#### Let's Perform Some Hyperperameter Tunning of the Model"
   ]
  },
  {
   "cell_type": "code",
   "execution_count": 76,
   "id": "001ea9c1-706f-4005-a735-22c6d72a9b01",
   "metadata": {},
   "outputs": [],
   "source": [
    "from sklearn.model_selection import GridSearchCV"
   ]
  },
  {
   "cell_type": "code",
   "execution_count": 77,
   "id": "fcd12173-a39e-45da-a033-421fddc2d527",
   "metadata": {},
   "outputs": [],
   "source": [
    "#### Selecting the best Perameter \n",
    "perameter = {'penalty':['l1','l2'],\n",
    "             'C' : np.logspace(-3,3,10),\n",
    "             'solver' : ['newton-cg', 'lbfgs', 'liblinear']}"
   ]
  },
  {
   "cell_type": "code",
   "execution_count": 78,
   "id": "5155ab51-d98f-49ba-958a-b1e0d703eb93",
   "metadata": {},
   "outputs": [],
   "source": [
    "#### Import the Standard Libraries\n",
    "from sklearn.model_selection import GridSearchCV"
   ]
  },
  {
   "cell_type": "code",
   "execution_count": 79,
   "id": "18a2d5a4-78f5-486d-a094-3cb98c059112",
   "metadata": {},
   "outputs": [
    {
     "data": {
      "text/html": [
       "<style>#sk-container-id-8 {color: black;background-color: white;}#sk-container-id-8 pre{padding: 0;}#sk-container-id-8 div.sk-toggleable {background-color: white;}#sk-container-id-8 label.sk-toggleable__label {cursor: pointer;display: block;width: 100%;margin-bottom: 0;padding: 0.3em;box-sizing: border-box;text-align: center;}#sk-container-id-8 label.sk-toggleable__label-arrow:before {content: \"▸\";float: left;margin-right: 0.25em;color: #696969;}#sk-container-id-8 label.sk-toggleable__label-arrow:hover:before {color: black;}#sk-container-id-8 div.sk-estimator:hover label.sk-toggleable__label-arrow:before {color: black;}#sk-container-id-8 div.sk-toggleable__content {max-height: 0;max-width: 0;overflow: hidden;text-align: left;background-color: #f0f8ff;}#sk-container-id-8 div.sk-toggleable__content pre {margin: 0.2em;color: black;border-radius: 0.25em;background-color: #f0f8ff;}#sk-container-id-8 input.sk-toggleable__control:checked~div.sk-toggleable__content {max-height: 200px;max-width: 100%;overflow: auto;}#sk-container-id-8 input.sk-toggleable__control:checked~label.sk-toggleable__label-arrow:before {content: \"▾\";}#sk-container-id-8 div.sk-estimator input.sk-toggleable__control:checked~label.sk-toggleable__label {background-color: #d4ebff;}#sk-container-id-8 div.sk-label input.sk-toggleable__control:checked~label.sk-toggleable__label {background-color: #d4ebff;}#sk-container-id-8 input.sk-hidden--visually {border: 0;clip: rect(1px 1px 1px 1px);clip: rect(1px, 1px, 1px, 1px);height: 1px;margin: -1px;overflow: hidden;padding: 0;position: absolute;width: 1px;}#sk-container-id-8 div.sk-estimator {font-family: monospace;background-color: #f0f8ff;border: 1px dotted black;border-radius: 0.25em;box-sizing: border-box;margin-bottom: 0.5em;}#sk-container-id-8 div.sk-estimator:hover {background-color: #d4ebff;}#sk-container-id-8 div.sk-parallel-item::after {content: \"\";width: 100%;border-bottom: 1px solid gray;flex-grow: 1;}#sk-container-id-8 div.sk-label:hover label.sk-toggleable__label {background-color: #d4ebff;}#sk-container-id-8 div.sk-serial::before {content: \"\";position: absolute;border-left: 1px solid gray;box-sizing: border-box;top: 0;bottom: 0;left: 50%;z-index: 0;}#sk-container-id-8 div.sk-serial {display: flex;flex-direction: column;align-items: center;background-color: white;padding-right: 0.2em;padding-left: 0.2em;position: relative;}#sk-container-id-8 div.sk-item {position: relative;z-index: 1;}#sk-container-id-8 div.sk-parallel {display: flex;align-items: stretch;justify-content: center;background-color: white;position: relative;}#sk-container-id-8 div.sk-item::before, #sk-container-id-8 div.sk-parallel-item::before {content: \"\";position: absolute;border-left: 1px solid gray;box-sizing: border-box;top: 0;bottom: 0;left: 50%;z-index: -1;}#sk-container-id-8 div.sk-parallel-item {display: flex;flex-direction: column;z-index: 1;position: relative;background-color: white;}#sk-container-id-8 div.sk-parallel-item:first-child::after {align-self: flex-end;width: 50%;}#sk-container-id-8 div.sk-parallel-item:last-child::after {align-self: flex-start;width: 50%;}#sk-container-id-8 div.sk-parallel-item:only-child::after {width: 0;}#sk-container-id-8 div.sk-dashed-wrapped {border: 1px dashed gray;margin: 0 0.4em 0.5em 0.4em;box-sizing: border-box;padding-bottom: 0.4em;background-color: white;}#sk-container-id-8 div.sk-label label {font-family: monospace;font-weight: bold;display: inline-block;line-height: 1.2em;}#sk-container-id-8 div.sk-label-container {text-align: center;}#sk-container-id-8 div.sk-container {/* jupyter's `normalize.less` sets `[hidden] { display: none; }` but bootstrap.min.css set `[hidden] { display: none !important; }` so we also need the `!important` here to be able to override the default hidden behavior on the sphinx rendered scikit-learn.org. See: https://github.com/scikit-learn/scikit-learn/issues/21755 */display: inline-block !important;position: relative;}#sk-container-id-8 div.sk-text-repr-fallback {display: none;}</style><div id=\"sk-container-id-8\" class=\"sk-top-container\"><div class=\"sk-text-repr-fallback\"><pre>GridSearchCV(cv=10, estimator=LogisticRegression(),\n",
       "             param_grid={&#x27;C&#x27;: array([1.00000000e-03, 4.64158883e-03, 2.15443469e-02, 1.00000000e-01,\n",
       "       4.64158883e-01, 2.15443469e+00, 1.00000000e+01, 4.64158883e+01,\n",
       "       2.15443469e+02, 1.00000000e+03]),\n",
       "                         &#x27;penalty&#x27;: [&#x27;l1&#x27;, &#x27;l2&#x27;],\n",
       "                         &#x27;solver&#x27;: [&#x27;newton-cg&#x27;, &#x27;lbfgs&#x27;, &#x27;liblinear&#x27;]},\n",
       "             scoring=&#x27;accuracy&#x27;)</pre><b>In a Jupyter environment, please rerun this cell to show the HTML representation or trust the notebook. <br />On GitHub, the HTML representation is unable to render, please try loading this page with nbviewer.org.</b></div><div class=\"sk-container\" hidden><div class=\"sk-item sk-dashed-wrapped\"><div class=\"sk-label-container\"><div class=\"sk-label sk-toggleable\"><input class=\"sk-toggleable__control sk-hidden--visually\" id=\"sk-estimator-id-12\" type=\"checkbox\" ><label for=\"sk-estimator-id-12\" class=\"sk-toggleable__label sk-toggleable__label-arrow\">GridSearchCV</label><div class=\"sk-toggleable__content\"><pre>GridSearchCV(cv=10, estimator=LogisticRegression(),\n",
       "             param_grid={&#x27;C&#x27;: array([1.00000000e-03, 4.64158883e-03, 2.15443469e-02, 1.00000000e-01,\n",
       "       4.64158883e-01, 2.15443469e+00, 1.00000000e+01, 4.64158883e+01,\n",
       "       2.15443469e+02, 1.00000000e+03]),\n",
       "                         &#x27;penalty&#x27;: [&#x27;l1&#x27;, &#x27;l2&#x27;],\n",
       "                         &#x27;solver&#x27;: [&#x27;newton-cg&#x27;, &#x27;lbfgs&#x27;, &#x27;liblinear&#x27;]},\n",
       "             scoring=&#x27;accuracy&#x27;)</pre></div></div></div><div class=\"sk-parallel\"><div class=\"sk-parallel-item\"><div class=\"sk-item\"><div class=\"sk-label-container\"><div class=\"sk-label sk-toggleable\"><input class=\"sk-toggleable__control sk-hidden--visually\" id=\"sk-estimator-id-13\" type=\"checkbox\" ><label for=\"sk-estimator-id-13\" class=\"sk-toggleable__label sk-toggleable__label-arrow\">estimator: LogisticRegression</label><div class=\"sk-toggleable__content\"><pre>LogisticRegression()</pre></div></div></div><div class=\"sk-serial\"><div class=\"sk-item\"><div class=\"sk-estimator sk-toggleable\"><input class=\"sk-toggleable__control sk-hidden--visually\" id=\"sk-estimator-id-14\" type=\"checkbox\" ><label for=\"sk-estimator-id-14\" class=\"sk-toggleable__label sk-toggleable__label-arrow\">LogisticRegression</label><div class=\"sk-toggleable__content\"><pre>LogisticRegression()</pre></div></div></div></div></div></div></div></div></div></div>"
      ],
      "text/plain": [
       "GridSearchCV(cv=10, estimator=LogisticRegression(),\n",
       "             param_grid={'C': array([1.00000000e-03, 4.64158883e-03, 2.15443469e-02, 1.00000000e-01,\n",
       "       4.64158883e-01, 2.15443469e+00, 1.00000000e+01, 4.64158883e+01,\n",
       "       2.15443469e+02, 1.00000000e+03]),\n",
       "                         'penalty': ['l1', 'l2'],\n",
       "                         'solver': ['newton-cg', 'lbfgs', 'liblinear']},\n",
       "             scoring='accuracy')"
      ]
     },
     "execution_count": 79,
     "metadata": {},
     "output_type": "execute_result"
    }
   ],
   "source": [
    "gsv = GridSearchCV(lr, param_grid= perameter , scoring = 'accuracy', cv = 10)\n",
    "gsv"
   ]
  },
  {
   "cell_type": "code",
   "execution_count": 80,
   "id": "67ec890d-e4e2-416f-8060-7136d9c383bb",
   "metadata": {},
   "outputs": [
    {
     "name": "stderr",
     "output_type": "stream",
     "text": [
      "c:\\Users\\AnshSrivastav\\anaconda3\\Lib\\site-packages\\sklearn\\svm\\_base.py:1244: ConvergenceWarning: Liblinear failed to converge, increase the number of iterations.\n",
      "  warnings.warn(\n",
      "c:\\Users\\AnshSrivastav\\anaconda3\\Lib\\site-packages\\sklearn\\svm\\_base.py:1244: ConvergenceWarning: Liblinear failed to converge, increase the number of iterations.\n",
      "  warnings.warn(\n",
      "c:\\Users\\AnshSrivastav\\anaconda3\\Lib\\site-packages\\sklearn\\svm\\_base.py:1244: ConvergenceWarning: Liblinear failed to converge, increase the number of iterations.\n",
      "  warnings.warn(\n",
      "c:\\Users\\AnshSrivastav\\anaconda3\\Lib\\site-packages\\sklearn\\svm\\_base.py:1244: ConvergenceWarning: Liblinear failed to converge, increase the number of iterations.\n",
      "  warnings.warn(\n",
      "c:\\Users\\AnshSrivastav\\anaconda3\\Lib\\site-packages\\sklearn\\svm\\_base.py:1244: ConvergenceWarning: Liblinear failed to converge, increase the number of iterations.\n",
      "  warnings.warn(\n",
      "c:\\Users\\AnshSrivastav\\anaconda3\\Lib\\site-packages\\sklearn\\svm\\_base.py:1244: ConvergenceWarning: Liblinear failed to converge, increase the number of iterations.\n",
      "  warnings.warn(\n",
      "c:\\Users\\AnshSrivastav\\anaconda3\\Lib\\site-packages\\sklearn\\svm\\_base.py:1244: ConvergenceWarning: Liblinear failed to converge, increase the number of iterations.\n",
      "  warnings.warn(\n",
      "c:\\Users\\AnshSrivastav\\anaconda3\\Lib\\site-packages\\sklearn\\svm\\_base.py:1244: ConvergenceWarning: Liblinear failed to converge, increase the number of iterations.\n",
      "  warnings.warn(\n",
      "c:\\Users\\AnshSrivastav\\anaconda3\\Lib\\site-packages\\sklearn\\svm\\_base.py:1244: ConvergenceWarning: Liblinear failed to converge, increase the number of iterations.\n",
      "  warnings.warn(\n",
      "c:\\Users\\AnshSrivastav\\anaconda3\\Lib\\site-packages\\sklearn\\svm\\_base.py:1244: ConvergenceWarning: Liblinear failed to converge, increase the number of iterations.\n",
      "  warnings.warn(\n",
      "c:\\Users\\AnshSrivastav\\anaconda3\\Lib\\site-packages\\sklearn\\svm\\_base.py:1244: ConvergenceWarning: Liblinear failed to converge, increase the number of iterations.\n",
      "  warnings.warn(\n",
      "c:\\Users\\AnshSrivastav\\anaconda3\\Lib\\site-packages\\sklearn\\model_selection\\_validation.py:378: FitFailedWarning: \n",
      "200 fits failed out of a total of 600.\n",
      "The score on these train-test partitions for these parameters will be set to nan.\n",
      "If these failures are not expected, you can try to debug them by setting error_score='raise'.\n",
      "\n",
      "Below are more details about the failures:\n",
      "--------------------------------------------------------------------------------\n",
      "100 fits failed with the following error:\n",
      "Traceback (most recent call last):\n",
      "  File \"c:\\Users\\AnshSrivastav\\anaconda3\\Lib\\site-packages\\sklearn\\model_selection\\_validation.py\", line 686, in _fit_and_score\n",
      "    estimator.fit(X_train, y_train, **fit_params)\n",
      "  File \"c:\\Users\\AnshSrivastav\\anaconda3\\Lib\\site-packages\\sklearn\\linear_model\\_logistic.py\", line 1162, in fit\n",
      "    solver = _check_solver(self.solver, self.penalty, self.dual)\n",
      "             ^^^^^^^^^^^^^^^^^^^^^^^^^^^^^^^^^^^^^^^^^^^^^^^^^^^\n",
      "  File \"c:\\Users\\AnshSrivastav\\anaconda3\\Lib\\site-packages\\sklearn\\linear_model\\_logistic.py\", line 54, in _check_solver\n",
      "    raise ValueError(\n",
      "ValueError: Solver newton-cg supports only 'l2' or 'none' penalties, got l1 penalty.\n",
      "\n",
      "--------------------------------------------------------------------------------\n",
      "100 fits failed with the following error:\n",
      "Traceback (most recent call last):\n",
      "  File \"c:\\Users\\AnshSrivastav\\anaconda3\\Lib\\site-packages\\sklearn\\model_selection\\_validation.py\", line 686, in _fit_and_score\n",
      "    estimator.fit(X_train, y_train, **fit_params)\n",
      "  File \"c:\\Users\\AnshSrivastav\\anaconda3\\Lib\\site-packages\\sklearn\\linear_model\\_logistic.py\", line 1162, in fit\n",
      "    solver = _check_solver(self.solver, self.penalty, self.dual)\n",
      "             ^^^^^^^^^^^^^^^^^^^^^^^^^^^^^^^^^^^^^^^^^^^^^^^^^^^\n",
      "  File \"c:\\Users\\AnshSrivastav\\anaconda3\\Lib\\site-packages\\sklearn\\linear_model\\_logistic.py\", line 54, in _check_solver\n",
      "    raise ValueError(\n",
      "ValueError: Solver lbfgs supports only 'l2' or 'none' penalties, got l1 penalty.\n",
      "\n",
      "  warnings.warn(some_fits_failed_message, FitFailedWarning)\n",
      "c:\\Users\\AnshSrivastav\\anaconda3\\Lib\\site-packages\\sklearn\\model_selection\\_search.py:952: UserWarning: One or more of the test scores are non-finite: [       nan        nan 0.60611111 0.60722222 0.60722222 0.60611111\n",
      "        nan        nan 0.60611111 0.75402778 0.75402778 0.72513889\n",
      "        nan        nan 0.79722222 0.7975     0.7975     0.79236111\n",
      "        nan        nan 0.8        0.79972222 0.79972222 0.79902778\n",
      "        nan        nan 0.80125    0.80027778 0.80027778 0.80055556\n",
      "        nan        nan 0.80083333 0.80055556 0.80055556 0.80041667\n",
      "        nan        nan 0.80083333 0.80069444 0.80069444 0.80055556\n",
      "        nan        nan 0.80083333 0.80083333 0.80083333 0.80083333\n",
      "        nan        nan 0.80083333 0.80069444 0.80083333 0.80083333\n",
      "        nan        nan 0.80069444 0.80069444 0.80083333 0.80083333]\n",
      "  warnings.warn(\n"
     ]
    },
    {
     "data": {
      "text/html": [
       "<style>#sk-container-id-9 {color: black;background-color: white;}#sk-container-id-9 pre{padding: 0;}#sk-container-id-9 div.sk-toggleable {background-color: white;}#sk-container-id-9 label.sk-toggleable__label {cursor: pointer;display: block;width: 100%;margin-bottom: 0;padding: 0.3em;box-sizing: border-box;text-align: center;}#sk-container-id-9 label.sk-toggleable__label-arrow:before {content: \"▸\";float: left;margin-right: 0.25em;color: #696969;}#sk-container-id-9 label.sk-toggleable__label-arrow:hover:before {color: black;}#sk-container-id-9 div.sk-estimator:hover label.sk-toggleable__label-arrow:before {color: black;}#sk-container-id-9 div.sk-toggleable__content {max-height: 0;max-width: 0;overflow: hidden;text-align: left;background-color: #f0f8ff;}#sk-container-id-9 div.sk-toggleable__content pre {margin: 0.2em;color: black;border-radius: 0.25em;background-color: #f0f8ff;}#sk-container-id-9 input.sk-toggleable__control:checked~div.sk-toggleable__content {max-height: 200px;max-width: 100%;overflow: auto;}#sk-container-id-9 input.sk-toggleable__control:checked~label.sk-toggleable__label-arrow:before {content: \"▾\";}#sk-container-id-9 div.sk-estimator input.sk-toggleable__control:checked~label.sk-toggleable__label {background-color: #d4ebff;}#sk-container-id-9 div.sk-label input.sk-toggleable__control:checked~label.sk-toggleable__label {background-color: #d4ebff;}#sk-container-id-9 input.sk-hidden--visually {border: 0;clip: rect(1px 1px 1px 1px);clip: rect(1px, 1px, 1px, 1px);height: 1px;margin: -1px;overflow: hidden;padding: 0;position: absolute;width: 1px;}#sk-container-id-9 div.sk-estimator {font-family: monospace;background-color: #f0f8ff;border: 1px dotted black;border-radius: 0.25em;box-sizing: border-box;margin-bottom: 0.5em;}#sk-container-id-9 div.sk-estimator:hover {background-color: #d4ebff;}#sk-container-id-9 div.sk-parallel-item::after {content: \"\";width: 100%;border-bottom: 1px solid gray;flex-grow: 1;}#sk-container-id-9 div.sk-label:hover label.sk-toggleable__label {background-color: #d4ebff;}#sk-container-id-9 div.sk-serial::before {content: \"\";position: absolute;border-left: 1px solid gray;box-sizing: border-box;top: 0;bottom: 0;left: 50%;z-index: 0;}#sk-container-id-9 div.sk-serial {display: flex;flex-direction: column;align-items: center;background-color: white;padding-right: 0.2em;padding-left: 0.2em;position: relative;}#sk-container-id-9 div.sk-item {position: relative;z-index: 1;}#sk-container-id-9 div.sk-parallel {display: flex;align-items: stretch;justify-content: center;background-color: white;position: relative;}#sk-container-id-9 div.sk-item::before, #sk-container-id-9 div.sk-parallel-item::before {content: \"\";position: absolute;border-left: 1px solid gray;box-sizing: border-box;top: 0;bottom: 0;left: 50%;z-index: -1;}#sk-container-id-9 div.sk-parallel-item {display: flex;flex-direction: column;z-index: 1;position: relative;background-color: white;}#sk-container-id-9 div.sk-parallel-item:first-child::after {align-self: flex-end;width: 50%;}#sk-container-id-9 div.sk-parallel-item:last-child::after {align-self: flex-start;width: 50%;}#sk-container-id-9 div.sk-parallel-item:only-child::after {width: 0;}#sk-container-id-9 div.sk-dashed-wrapped {border: 1px dashed gray;margin: 0 0.4em 0.5em 0.4em;box-sizing: border-box;padding-bottom: 0.4em;background-color: white;}#sk-container-id-9 div.sk-label label {font-family: monospace;font-weight: bold;display: inline-block;line-height: 1.2em;}#sk-container-id-9 div.sk-label-container {text-align: center;}#sk-container-id-9 div.sk-container {/* jupyter's `normalize.less` sets `[hidden] { display: none; }` but bootstrap.min.css set `[hidden] { display: none !important; }` so we also need the `!important` here to be able to override the default hidden behavior on the sphinx rendered scikit-learn.org. See: https://github.com/scikit-learn/scikit-learn/issues/21755 */display: inline-block !important;position: relative;}#sk-container-id-9 div.sk-text-repr-fallback {display: none;}</style><div id=\"sk-container-id-9\" class=\"sk-top-container\"><div class=\"sk-text-repr-fallback\"><pre>GridSearchCV(cv=10, estimator=LogisticRegression(),\n",
       "             param_grid={&#x27;C&#x27;: array([1.00000000e-03, 4.64158883e-03, 2.15443469e-02, 1.00000000e-01,\n",
       "       4.64158883e-01, 2.15443469e+00, 1.00000000e+01, 4.64158883e+01,\n",
       "       2.15443469e+02, 1.00000000e+03]),\n",
       "                         &#x27;penalty&#x27;: [&#x27;l1&#x27;, &#x27;l2&#x27;],\n",
       "                         &#x27;solver&#x27;: [&#x27;newton-cg&#x27;, &#x27;lbfgs&#x27;, &#x27;liblinear&#x27;]},\n",
       "             scoring=&#x27;accuracy&#x27;)</pre><b>In a Jupyter environment, please rerun this cell to show the HTML representation or trust the notebook. <br />On GitHub, the HTML representation is unable to render, please try loading this page with nbviewer.org.</b></div><div class=\"sk-container\" hidden><div class=\"sk-item sk-dashed-wrapped\"><div class=\"sk-label-container\"><div class=\"sk-label sk-toggleable\"><input class=\"sk-toggleable__control sk-hidden--visually\" id=\"sk-estimator-id-15\" type=\"checkbox\" ><label for=\"sk-estimator-id-15\" class=\"sk-toggleable__label sk-toggleable__label-arrow\">GridSearchCV</label><div class=\"sk-toggleable__content\"><pre>GridSearchCV(cv=10, estimator=LogisticRegression(),\n",
       "             param_grid={&#x27;C&#x27;: array([1.00000000e-03, 4.64158883e-03, 2.15443469e-02, 1.00000000e-01,\n",
       "       4.64158883e-01, 2.15443469e+00, 1.00000000e+01, 4.64158883e+01,\n",
       "       2.15443469e+02, 1.00000000e+03]),\n",
       "                         &#x27;penalty&#x27;: [&#x27;l1&#x27;, &#x27;l2&#x27;],\n",
       "                         &#x27;solver&#x27;: [&#x27;newton-cg&#x27;, &#x27;lbfgs&#x27;, &#x27;liblinear&#x27;]},\n",
       "             scoring=&#x27;accuracy&#x27;)</pre></div></div></div><div class=\"sk-parallel\"><div class=\"sk-parallel-item\"><div class=\"sk-item\"><div class=\"sk-label-container\"><div class=\"sk-label sk-toggleable\"><input class=\"sk-toggleable__control sk-hidden--visually\" id=\"sk-estimator-id-16\" type=\"checkbox\" ><label for=\"sk-estimator-id-16\" class=\"sk-toggleable__label sk-toggleable__label-arrow\">estimator: LogisticRegression</label><div class=\"sk-toggleable__content\"><pre>LogisticRegression()</pre></div></div></div><div class=\"sk-serial\"><div class=\"sk-item\"><div class=\"sk-estimator sk-toggleable\"><input class=\"sk-toggleable__control sk-hidden--visually\" id=\"sk-estimator-id-17\" type=\"checkbox\" ><label for=\"sk-estimator-id-17\" class=\"sk-toggleable__label sk-toggleable__label-arrow\">LogisticRegression</label><div class=\"sk-toggleable__content\"><pre>LogisticRegression()</pre></div></div></div></div></div></div></div></div></div></div>"
      ],
      "text/plain": [
       "GridSearchCV(cv=10, estimator=LogisticRegression(),\n",
       "             param_grid={'C': array([1.00000000e-03, 4.64158883e-03, 2.15443469e-02, 1.00000000e-01,\n",
       "       4.64158883e-01, 2.15443469e+00, 1.00000000e+01, 4.64158883e+01,\n",
       "       2.15443469e+02, 1.00000000e+03]),\n",
       "                         'penalty': ['l1', 'l2'],\n",
       "                         'solver': ['newton-cg', 'lbfgs', 'liblinear']},\n",
       "             scoring='accuracy')"
      ]
     },
     "execution_count": 80,
     "metadata": {},
     "output_type": "execute_result"
    }
   ],
   "source": [
    "gsv.fit(x_train_scaled, y_train)"
   ]
  },
  {
   "cell_type": "code",
   "execution_count": 81,
   "id": "47e3b18e-4573-4476-a911-670f50e1d2fc",
   "metadata": {},
   "outputs": [
    {
     "data": {
      "text/plain": [
       "0.8012499999999999"
      ]
     },
     "execution_count": 81,
     "metadata": {},
     "output_type": "execute_result"
    }
   ],
   "source": [
    "#### My Model Accuract \n",
    "gsv.best_score_"
   ]
  },
  {
   "cell_type": "code",
   "execution_count": 82,
   "id": "39743141-b333-43f7-8d2f-7e4071428079",
   "metadata": {},
   "outputs": [
    {
     "data": {
      "text/html": [
       "<style>#sk-container-id-10 {color: black;background-color: white;}#sk-container-id-10 pre{padding: 0;}#sk-container-id-10 div.sk-toggleable {background-color: white;}#sk-container-id-10 label.sk-toggleable__label {cursor: pointer;display: block;width: 100%;margin-bottom: 0;padding: 0.3em;box-sizing: border-box;text-align: center;}#sk-container-id-10 label.sk-toggleable__label-arrow:before {content: \"▸\";float: left;margin-right: 0.25em;color: #696969;}#sk-container-id-10 label.sk-toggleable__label-arrow:hover:before {color: black;}#sk-container-id-10 div.sk-estimator:hover label.sk-toggleable__label-arrow:before {color: black;}#sk-container-id-10 div.sk-toggleable__content {max-height: 0;max-width: 0;overflow: hidden;text-align: left;background-color: #f0f8ff;}#sk-container-id-10 div.sk-toggleable__content pre {margin: 0.2em;color: black;border-radius: 0.25em;background-color: #f0f8ff;}#sk-container-id-10 input.sk-toggleable__control:checked~div.sk-toggleable__content {max-height: 200px;max-width: 100%;overflow: auto;}#sk-container-id-10 input.sk-toggleable__control:checked~label.sk-toggleable__label-arrow:before {content: \"▾\";}#sk-container-id-10 div.sk-estimator input.sk-toggleable__control:checked~label.sk-toggleable__label {background-color: #d4ebff;}#sk-container-id-10 div.sk-label input.sk-toggleable__control:checked~label.sk-toggleable__label {background-color: #d4ebff;}#sk-container-id-10 input.sk-hidden--visually {border: 0;clip: rect(1px 1px 1px 1px);clip: rect(1px, 1px, 1px, 1px);height: 1px;margin: -1px;overflow: hidden;padding: 0;position: absolute;width: 1px;}#sk-container-id-10 div.sk-estimator {font-family: monospace;background-color: #f0f8ff;border: 1px dotted black;border-radius: 0.25em;box-sizing: border-box;margin-bottom: 0.5em;}#sk-container-id-10 div.sk-estimator:hover {background-color: #d4ebff;}#sk-container-id-10 div.sk-parallel-item::after {content: \"\";width: 100%;border-bottom: 1px solid gray;flex-grow: 1;}#sk-container-id-10 div.sk-label:hover label.sk-toggleable__label {background-color: #d4ebff;}#sk-container-id-10 div.sk-serial::before {content: \"\";position: absolute;border-left: 1px solid gray;box-sizing: border-box;top: 0;bottom: 0;left: 50%;z-index: 0;}#sk-container-id-10 div.sk-serial {display: flex;flex-direction: column;align-items: center;background-color: white;padding-right: 0.2em;padding-left: 0.2em;position: relative;}#sk-container-id-10 div.sk-item {position: relative;z-index: 1;}#sk-container-id-10 div.sk-parallel {display: flex;align-items: stretch;justify-content: center;background-color: white;position: relative;}#sk-container-id-10 div.sk-item::before, #sk-container-id-10 div.sk-parallel-item::before {content: \"\";position: absolute;border-left: 1px solid gray;box-sizing: border-box;top: 0;bottom: 0;left: 50%;z-index: -1;}#sk-container-id-10 div.sk-parallel-item {display: flex;flex-direction: column;z-index: 1;position: relative;background-color: white;}#sk-container-id-10 div.sk-parallel-item:first-child::after {align-self: flex-end;width: 50%;}#sk-container-id-10 div.sk-parallel-item:last-child::after {align-self: flex-start;width: 50%;}#sk-container-id-10 div.sk-parallel-item:only-child::after {width: 0;}#sk-container-id-10 div.sk-dashed-wrapped {border: 1px dashed gray;margin: 0 0.4em 0.5em 0.4em;box-sizing: border-box;padding-bottom: 0.4em;background-color: white;}#sk-container-id-10 div.sk-label label {font-family: monospace;font-weight: bold;display: inline-block;line-height: 1.2em;}#sk-container-id-10 div.sk-label-container {text-align: center;}#sk-container-id-10 div.sk-container {/* jupyter's `normalize.less` sets `[hidden] { display: none; }` but bootstrap.min.css set `[hidden] { display: none !important; }` so we also need the `!important` here to be able to override the default hidden behavior on the sphinx rendered scikit-learn.org. See: https://github.com/scikit-learn/scikit-learn/issues/21755 */display: inline-block !important;position: relative;}#sk-container-id-10 div.sk-text-repr-fallback {display: none;}</style><div id=\"sk-container-id-10\" class=\"sk-top-container\"><div class=\"sk-text-repr-fallback\"><pre>LogisticRegression(C=0.46415888336127775, penalty=&#x27;l1&#x27;, solver=&#x27;liblinear&#x27;)</pre><b>In a Jupyter environment, please rerun this cell to show the HTML representation or trust the notebook. <br />On GitHub, the HTML representation is unable to render, please try loading this page with nbviewer.org.</b></div><div class=\"sk-container\" hidden><div class=\"sk-item\"><div class=\"sk-estimator sk-toggleable\"><input class=\"sk-toggleable__control sk-hidden--visually\" id=\"sk-estimator-id-18\" type=\"checkbox\" checked><label for=\"sk-estimator-id-18\" class=\"sk-toggleable__label sk-toggleable__label-arrow\">LogisticRegression</label><div class=\"sk-toggleable__content\"><pre>LogisticRegression(C=0.46415888336127775, penalty=&#x27;l1&#x27;, solver=&#x27;liblinear&#x27;)</pre></div></div></div></div></div>"
      ],
      "text/plain": [
       "LogisticRegression(C=0.46415888336127775, penalty='l1', solver='liblinear')"
      ]
     },
     "execution_count": 82,
     "metadata": {},
     "output_type": "execute_result"
    }
   ],
   "source": [
    "### The Best Perameter Get Selected For \n",
    "gsv.best_estimator_"
   ]
  },
  {
   "cell_type": "markdown",
   "id": "b0f12e55-305a-45fb-8d0c-ddb8057d3684",
   "metadata": {},
   "source": [
    "### Now Let's Add this Perameter into Our Model"
   ]
  },
  {
   "cell_type": "code",
   "execution_count": 83,
   "id": "4f967f9b-48b9-4ce6-9009-e4cc60b3a9a8",
   "metadata": {},
   "outputs": [],
   "source": [
    "lr = LogisticRegression(C=0.46415888336127775, penalty='l1', solver='liblinear')"
   ]
  },
  {
   "cell_type": "code",
   "execution_count": 84,
   "id": "8a6c2c8d-ca43-4ec2-866f-37a6c271257e",
   "metadata": {},
   "outputs": [
    {
     "data": {
      "text/html": [
       "<style>#sk-container-id-11 {color: black;background-color: white;}#sk-container-id-11 pre{padding: 0;}#sk-container-id-11 div.sk-toggleable {background-color: white;}#sk-container-id-11 label.sk-toggleable__label {cursor: pointer;display: block;width: 100%;margin-bottom: 0;padding: 0.3em;box-sizing: border-box;text-align: center;}#sk-container-id-11 label.sk-toggleable__label-arrow:before {content: \"▸\";float: left;margin-right: 0.25em;color: #696969;}#sk-container-id-11 label.sk-toggleable__label-arrow:hover:before {color: black;}#sk-container-id-11 div.sk-estimator:hover label.sk-toggleable__label-arrow:before {color: black;}#sk-container-id-11 div.sk-toggleable__content {max-height: 0;max-width: 0;overflow: hidden;text-align: left;background-color: #f0f8ff;}#sk-container-id-11 div.sk-toggleable__content pre {margin: 0.2em;color: black;border-radius: 0.25em;background-color: #f0f8ff;}#sk-container-id-11 input.sk-toggleable__control:checked~div.sk-toggleable__content {max-height: 200px;max-width: 100%;overflow: auto;}#sk-container-id-11 input.sk-toggleable__control:checked~label.sk-toggleable__label-arrow:before {content: \"▾\";}#sk-container-id-11 div.sk-estimator input.sk-toggleable__control:checked~label.sk-toggleable__label {background-color: #d4ebff;}#sk-container-id-11 div.sk-label input.sk-toggleable__control:checked~label.sk-toggleable__label {background-color: #d4ebff;}#sk-container-id-11 input.sk-hidden--visually {border: 0;clip: rect(1px 1px 1px 1px);clip: rect(1px, 1px, 1px, 1px);height: 1px;margin: -1px;overflow: hidden;padding: 0;position: absolute;width: 1px;}#sk-container-id-11 div.sk-estimator {font-family: monospace;background-color: #f0f8ff;border: 1px dotted black;border-radius: 0.25em;box-sizing: border-box;margin-bottom: 0.5em;}#sk-container-id-11 div.sk-estimator:hover {background-color: #d4ebff;}#sk-container-id-11 div.sk-parallel-item::after {content: \"\";width: 100%;border-bottom: 1px solid gray;flex-grow: 1;}#sk-container-id-11 div.sk-label:hover label.sk-toggleable__label {background-color: #d4ebff;}#sk-container-id-11 div.sk-serial::before {content: \"\";position: absolute;border-left: 1px solid gray;box-sizing: border-box;top: 0;bottom: 0;left: 50%;z-index: 0;}#sk-container-id-11 div.sk-serial {display: flex;flex-direction: column;align-items: center;background-color: white;padding-right: 0.2em;padding-left: 0.2em;position: relative;}#sk-container-id-11 div.sk-item {position: relative;z-index: 1;}#sk-container-id-11 div.sk-parallel {display: flex;align-items: stretch;justify-content: center;background-color: white;position: relative;}#sk-container-id-11 div.sk-item::before, #sk-container-id-11 div.sk-parallel-item::before {content: \"\";position: absolute;border-left: 1px solid gray;box-sizing: border-box;top: 0;bottom: 0;left: 50%;z-index: -1;}#sk-container-id-11 div.sk-parallel-item {display: flex;flex-direction: column;z-index: 1;position: relative;background-color: white;}#sk-container-id-11 div.sk-parallel-item:first-child::after {align-self: flex-end;width: 50%;}#sk-container-id-11 div.sk-parallel-item:last-child::after {align-self: flex-start;width: 50%;}#sk-container-id-11 div.sk-parallel-item:only-child::after {width: 0;}#sk-container-id-11 div.sk-dashed-wrapped {border: 1px dashed gray;margin: 0 0.4em 0.5em 0.4em;box-sizing: border-box;padding-bottom: 0.4em;background-color: white;}#sk-container-id-11 div.sk-label label {font-family: monospace;font-weight: bold;display: inline-block;line-height: 1.2em;}#sk-container-id-11 div.sk-label-container {text-align: center;}#sk-container-id-11 div.sk-container {/* jupyter's `normalize.less` sets `[hidden] { display: none; }` but bootstrap.min.css set `[hidden] { display: none !important; }` so we also need the `!important` here to be able to override the default hidden behavior on the sphinx rendered scikit-learn.org. See: https://github.com/scikit-learn/scikit-learn/issues/21755 */display: inline-block !important;position: relative;}#sk-container-id-11 div.sk-text-repr-fallback {display: none;}</style><div id=\"sk-container-id-11\" class=\"sk-top-container\"><div class=\"sk-text-repr-fallback\"><pre>LogisticRegression(C=0.46415888336127775, penalty=&#x27;l1&#x27;, solver=&#x27;liblinear&#x27;)</pre><b>In a Jupyter environment, please rerun this cell to show the HTML representation or trust the notebook. <br />On GitHub, the HTML representation is unable to render, please try loading this page with nbviewer.org.</b></div><div class=\"sk-container\" hidden><div class=\"sk-item\"><div class=\"sk-estimator sk-toggleable\"><input class=\"sk-toggleable__control sk-hidden--visually\" id=\"sk-estimator-id-19\" type=\"checkbox\" checked><label for=\"sk-estimator-id-19\" class=\"sk-toggleable__label sk-toggleable__label-arrow\">LogisticRegression</label><div class=\"sk-toggleable__content\"><pre>LogisticRegression(C=0.46415888336127775, penalty=&#x27;l1&#x27;, solver=&#x27;liblinear&#x27;)</pre></div></div></div></div></div>"
      ],
      "text/plain": [
       "LogisticRegression(C=0.46415888336127775, penalty='l1', solver='liblinear')"
      ]
     },
     "execution_count": 84,
     "metadata": {},
     "output_type": "execute_result"
    }
   ],
   "source": [
    "lr.fit(x_train_scaled, y_train)"
   ]
  },
  {
   "cell_type": "code",
   "execution_count": 85,
   "id": "4db99bd6-e5e1-4bdb-8d48-d05d516130ed",
   "metadata": {},
   "outputs": [],
   "source": [
    "y_test_pred = lr.predict(x_test_scaled)"
   ]
  },
  {
   "cell_type": "markdown",
   "id": "19d7320f-de5f-4ed6-a6b6-4f31c7d712cc",
   "metadata": {},
   "source": [
    "**Observation-:** We have predict the test output using ML model now let's check the Accuracy and Con Confusion Metrics"
   ]
  },
  {
   "cell_type": "markdown",
   "id": "075ccbe3-3938-4f4f-9fd6-ff89ce6e5bf7",
   "metadata": {},
   "source": [
    "### Metrix"
   ]
  },
  {
   "cell_type": "code",
   "execution_count": 86,
   "id": "ef2e88fc-d3b0-4421-abb2-ef4b21125f72",
   "metadata": {},
   "outputs": [],
   "source": [
    "from sklearn.metrics import confusion_matrix, accuracy_score, classification_report"
   ]
  },
  {
   "cell_type": "code",
   "execution_count": 87,
   "id": "f00ec7ce-23ce-4a68-a3a6-e68b93fe548d",
   "metadata": {},
   "outputs": [
    {
     "name": "stdout",
     "output_type": "stream",
     "text": [
      "[[910 158]\n",
      " [219 513]] \n",
      "\n",
      "              precision    recall  f1-score   support\n",
      "\n",
      "           0       0.81      0.85      0.83      1068\n",
      "           1       0.76      0.70      0.73       732\n",
      "\n",
      "    accuracy                           0.79      1800\n",
      "   macro avg       0.79      0.78      0.78      1800\n",
      "weighted avg       0.79      0.79      0.79      1800\n",
      "\n",
      "The Accuracy Score With Respect to Test Data is : 0.7905555555555556\n"
     ]
    }
   ],
   "source": [
    "print(confusion_matrix(y_test ,y_test_pred), \"\\n\")\n",
    "print(classification_report(y_test, y_test_pred))\n",
    "print(f\"The Accuracy Score With Respect to Test Data is : {accuracy_score(y_test , y_test_pred)}\")"
   ]
  },
  {
   "cell_type": "code",
   "execution_count": 88,
   "id": "1424b6ec-ded2-4bc5-832e-c50782f8ebb5",
   "metadata": {},
   "outputs": [],
   "source": [
    "f = open('model_file/MODEL.pkl','wb')\n",
    "pickle.dump(lr, f)\n",
    "f.close()"
   ]
  },
  {
   "cell_type": "markdown",
   "id": "e1044421-ba4e-49a6-b404-3f956606606a",
   "metadata": {},
   "source": [
    "#### **Observation-:** As We can see we having the good model with train accuracy 80% and test with 79% it's Good model to do prediction."
   ]
  },
  {
   "cell_type": "code",
   "execution_count": 93,
   "id": "85c96719",
   "metadata": {},
   "outputs": [],
   "source": [
    "with open('feature engineering model/OneHot.pkl', 'rb') as mms_file:\n",
    "    Ohe = pickle.load(mms_file)\n",
    "    mms_file.close()"
   ]
  },
  {
   "cell_type": "code",
   "execution_count": 116,
   "id": "fe737d10",
   "metadata": {},
   "outputs": [
    {
     "data": {
      "text/html": [
       "<div>\n",
       "<style scoped>\n",
       "    .dataframe tbody tr th:only-of-type {\n",
       "        vertical-align: middle;\n",
       "    }\n",
       "\n",
       "    .dataframe tbody tr th {\n",
       "        vertical-align: top;\n",
       "    }\n",
       "\n",
       "    .dataframe thead th {\n",
       "        text-align: right;\n",
       "    }\n",
       "</style>\n",
       "<table border=\"1\" class=\"dataframe\">\n",
       "  <thead>\n",
       "    <tr style=\"text-align: right;\">\n",
       "      <th></th>\n",
       "      <th>CourseCategory</th>\n",
       "      <th>TimeSpentOnCourse</th>\n",
       "      <th>NumberOfVideosWatched</th>\n",
       "      <th>NumberOfQuizzesTaken</th>\n",
       "      <th>QuizScores</th>\n",
       "      <th>CompletionRate</th>\n",
       "      <th>DeviceType</th>\n",
       "      <th>CourseCompletion</th>\n",
       "    </tr>\n",
       "  </thead>\n",
       "  <tbody>\n",
       "    <tr>\n",
       "      <th>0</th>\n",
       "      <td>Health</td>\n",
       "      <td>29.979719</td>\n",
       "      <td>17</td>\n",
       "      <td>3</td>\n",
       "      <td>50.365656</td>\n",
       "      <td>20.860773</td>\n",
       "      <td>1</td>\n",
       "      <td>0</td>\n",
       "    </tr>\n",
       "    <tr>\n",
       "      <th>1</th>\n",
       "      <td>Arts</td>\n",
       "      <td>27.802640</td>\n",
       "      <td>1</td>\n",
       "      <td>5</td>\n",
       "      <td>62.615970</td>\n",
       "      <td>65.632415</td>\n",
       "      <td>1</td>\n",
       "      <td>0</td>\n",
       "    </tr>\n",
       "    <tr>\n",
       "      <th>4</th>\n",
       "      <td>Programming</td>\n",
       "      <td>92.490647</td>\n",
       "      <td>16</td>\n",
       "      <td>0</td>\n",
       "      <td>98.428285</td>\n",
       "      <td>18.102478</td>\n",
       "      <td>0</td>\n",
       "      <td>0</td>\n",
       "    </tr>\n",
       "    <tr>\n",
       "      <th>6</th>\n",
       "      <td>Health</td>\n",
       "      <td>78.908724</td>\n",
       "      <td>10</td>\n",
       "      <td>2</td>\n",
       "      <td>86.836533</td>\n",
       "      <td>22.588896</td>\n",
       "      <td>1</td>\n",
       "      <td>0</td>\n",
       "    </tr>\n",
       "    <tr>\n",
       "      <th>7</th>\n",
       "      <td>Business</td>\n",
       "      <td>12.068237</td>\n",
       "      <td>16</td>\n",
       "      <td>3</td>\n",
       "      <td>61.553646</td>\n",
       "      <td>27.410991</td>\n",
       "      <td>1</td>\n",
       "      <td>0</td>\n",
       "    </tr>\n",
       "    <tr>\n",
       "      <th>...</th>\n",
       "      <td>...</td>\n",
       "      <td>...</td>\n",
       "      <td>...</td>\n",
       "      <td>...</td>\n",
       "      <td>...</td>\n",
       "      <td>...</td>\n",
       "      <td>...</td>\n",
       "      <td>...</td>\n",
       "    </tr>\n",
       "    <tr>\n",
       "      <th>8991</th>\n",
       "      <td>Science</td>\n",
       "      <td>27.665242</td>\n",
       "      <td>8</td>\n",
       "      <td>10</td>\n",
       "      <td>55.217584</td>\n",
       "      <td>42.558240</td>\n",
       "      <td>0</td>\n",
       "      <td>0</td>\n",
       "    </tr>\n",
       "    <tr>\n",
       "      <th>8995</th>\n",
       "      <td>Health</td>\n",
       "      <td>37.445225</td>\n",
       "      <td>14</td>\n",
       "      <td>4</td>\n",
       "      <td>54.469359</td>\n",
       "      <td>32.990704</td>\n",
       "      <td>1</td>\n",
       "      <td>0</td>\n",
       "    </tr>\n",
       "    <tr>\n",
       "      <th>8996</th>\n",
       "      <td>Science</td>\n",
       "      <td>48.631443</td>\n",
       "      <td>7</td>\n",
       "      <td>7</td>\n",
       "      <td>59.413257</td>\n",
       "      <td>0.254625</td>\n",
       "      <td>0</td>\n",
       "      <td>0</td>\n",
       "    </tr>\n",
       "    <tr>\n",
       "      <th>8997</th>\n",
       "      <td>Health</td>\n",
       "      <td>38.212512</td>\n",
       "      <td>3</td>\n",
       "      <td>3</td>\n",
       "      <td>69.508297</td>\n",
       "      <td>70.188159</td>\n",
       "      <td>1</td>\n",
       "      <td>0</td>\n",
       "    </tr>\n",
       "    <tr>\n",
       "      <th>8999</th>\n",
       "      <td>Health</td>\n",
       "      <td>93.589781</td>\n",
       "      <td>7</td>\n",
       "      <td>5</td>\n",
       "      <td>56.274546</td>\n",
       "      <td>11.299071</td>\n",
       "      <td>0</td>\n",
       "      <td>0</td>\n",
       "    </tr>\n",
       "  </tbody>\n",
       "</table>\n",
       "<p>5432 rows × 8 columns</p>\n",
       "</div>"
      ],
      "text/plain": [
       "     CourseCategory  TimeSpentOnCourse  NumberOfVideosWatched  \\\n",
       "0            Health          29.979719                     17   \n",
       "1              Arts          27.802640                      1   \n",
       "4       Programming          92.490647                     16   \n",
       "6            Health          78.908724                     10   \n",
       "7          Business          12.068237                     16   \n",
       "...             ...                ...                    ...   \n",
       "8991        Science          27.665242                      8   \n",
       "8995         Health          37.445225                     14   \n",
       "8996        Science          48.631443                      7   \n",
       "8997         Health          38.212512                      3   \n",
       "8999         Health          93.589781                      7   \n",
       "\n",
       "      NumberOfQuizzesTaken  QuizScores  CompletionRate  DeviceType  \\\n",
       "0                        3   50.365656       20.860773           1   \n",
       "1                        5   62.615970       65.632415           1   \n",
       "4                        0   98.428285       18.102478           0   \n",
       "6                        2   86.836533       22.588896           1   \n",
       "7                        3   61.553646       27.410991           1   \n",
       "...                    ...         ...             ...         ...   \n",
       "8991                    10   55.217584       42.558240           0   \n",
       "8995                     4   54.469359       32.990704           1   \n",
       "8996                     7   59.413257        0.254625           0   \n",
       "8997                     3   69.508297       70.188159           1   \n",
       "8999                     5   56.274546       11.299071           0   \n",
       "\n",
       "      CourseCompletion  \n",
       "0                    0  \n",
       "1                    0  \n",
       "4                    0  \n",
       "6                    0  \n",
       "7                    0  \n",
       "...                ...  \n",
       "8991                 0  \n",
       "8995                 0  \n",
       "8996                 0  \n",
       "8997                 0  \n",
       "8999                 0  \n",
       "\n",
       "[5432 rows x 8 columns]"
      ]
     },
     "execution_count": 116,
     "metadata": {},
     "output_type": "execute_result"
    }
   ],
   "source": [
    "df[df['CourseCompletion'] == 0]"
   ]
  }
 ],
 "metadata": {
  "kernelspec": {
   "display_name": "Python 3 (ipykernel)",
   "language": "python",
   "name": "python3"
  },
  "language_info": {
   "codemirror_mode": {
    "name": "ipython",
    "version": 3
   },
   "file_extension": ".py",
   "mimetype": "text/x-python",
   "name": "python",
   "nbconvert_exporter": "python",
   "pygments_lexer": "ipython3",
   "version": "3.11.7"
  }
 },
 "nbformat": 4,
 "nbformat_minor": 5
}
